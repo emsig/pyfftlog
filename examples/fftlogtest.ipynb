{
 "cells": [
  {
   "cell_type": "markdown",
   "metadata": {},
   "source": [
    "# FFTLog\n",
    "\n",
    "This notebook is a translation of `fftlogtest.f` from the Fortran package `FFTLog`, which was presented in Appendix B of Hamilton, 2000, and published at <http://casa.colorado.edu/~ajsh/FFTLog>. It serves as an example for the python package `pyfftlog` (which is a Python version of `FFTLog`), in the same manner as the original file `fftlogtest.f` serves as an example for Fortran package `FFTLog`.\n",
    "\n",
    "\n",
    "### Reference\n",
    "Hamilton, A. J. S., 2000, Uncorrelated modes of the non-linear power spectrum: Monthly Notices of the Royal Astronomical Society, 312, pages 257-284; DOI: <http://dx.doi.org/10.1046/j.1365-8711.2000.03071.x>.\n",
    "\n",
    "---"
   ]
  },
  {
   "cell_type": "markdown",
   "metadata": {},
   "source": [
    "## This is fftlogtest.f\n",
    "\n",
    "This is a simple test program to illustrate how `FFTLog` works.\n",
    "The test transform is:\n",
    "\n",
    "$$\n",
    "\\int^\\infty_0 r^{\\mu+1} \\exp\\left(-\\frac{r^2}{2} \\right)\\\n",
    "J_\\mu(k, r)\\ k\\ {\\rm d}r = k^{\\mu+1} \\exp\\left(-\\frac{k^2}{2}\n",
    "\\right) $$\n",
    "\n",
    "\n",
    "**Disclaimer:**  \n",
    "`FFTLog` does NOT claim to provide the most accurate possible\n",
    "solution of the continuous transform (which is the stated aim\n",
    "of some other codes).  Rather, `FFTLog` claims to solve the exact\n",
    "discrete transform of a logarithmically-spaced periodic sequence.\n",
    "If the periodic interval is wide enough, the resolution high\n",
    "enough, and the function well enough behaved outside the periodic\n",
    "interval, then `FFTLog` may yield a satisfactory approximation\n",
    "to the continuous transform.\n",
    "\n",
    "Observe:\n",
    "1.  How the result improves as the periodic interval is enlarged.\n",
    "    With the normal FFT, one is not used to ranges orders of\n",
    "    magnitude wide, but this is how `FFTLog` prefers it.\n",
    "2.  How the result improves as the resolution is increased.\n",
    "    Because the function is rather smooth, modest resolution\n",
    "    actually works quite well here.\n",
    "3.  That the central part of the transform is more reliable\n",
    "    than the outer parts.  Experience suggests that a good general\n",
    "    strategy is to double the periodic interval over which the\n",
    "    input function is defined, and then to discard the outer\n",
    "    half of the transform.\n",
    "4.  That the best bias exponent seems to be $q = 0$.\n",
    "5.  That for the critical index $\\mu = -1$, the result seems to be\n",
    "    offset by a constant from the 'correct' answer.\n",
    "6.  That the result grows progressively worse as mu decreases\n",
    "    below -1.\n",
    "\n",
    "The analytic integral above fails for $\\mu \\le -1$, but `FFTLog`\n",
    "still returns answers.  Namely, `FFTLog` returns the analytic\n",
    "continuation of the discrete transform.  Because of ambiguity\n",
    "in the path of integration around poles, this analytic continuation\n",
    "is liable to differ, for $\\mu \\le -1$, by a constant from the 'correct'\n",
    "continuation given by the above equation.\n",
    "\n",
    "`FFTLog` begins to have serious difficulties with aliasing as\n",
    "$\\mu$ decreases below $-1$, because then $r^{\\mu+1} \\exp(-r^2/2)$ is\n",
    "far from resembling a periodic function.\n",
    "You might have thought that it would help to introduce a bias\n",
    "exponent $q = \\mu$, or perhaps $q = \\mu+1$, or more, to make the\n",
    "function $a(r) = A(r) r^{-q}$ input to `fhtq` more nearly periodic.\n",
    "In practice a nonzero $q$ makes things worse.\n",
    "\n",
    "A symmetry argument lends support to the notion that the best\n",
    "exponent here should be $q = 0,$ as empirically appears to be true.\n",
    "The symmetry argument is that the function $r^{\\mu+1} \\exp(-r^2/2)$\n",
    "happens to be the same as its transform $k^{\\mu+1} \\exp(-k^2/2)$.\n",
    "If the best bias exponent were q in the forward transform, then\n",
    "the best exponent would be $-q$ that in the backward transform;\n",
    "but the two transforms happen to be the same in this case,\n",
    "suggesting $q = -q$, hence $q = 0$.\n",
    "\n",
    "This example illustrates that you cannot always tell just by\n",
    "looking at a function what the best bias exponent $q$ should be.\n",
    "You also have to look at its transform.  The best exponent $q$ is,\n",
    "in a sense, the one that makes both the function and its transform\n",
    "look most nearly periodic.\n",
    "\n",
    "---"
   ]
  },
  {
   "cell_type": "markdown",
   "metadata": {},
   "source": [
    "## Test-Integral:  $\\int_0^\\infty r^{\\mu+1}\\ \\exp\\left(-\\frac{r^2}{2}\\right)\\ J_\\mu(k,r)\\ k\\ {\\rm d}r = k^{\\mu+1} \\exp\\left(-\\frac{k^2}{2}\\right)$"
   ]
  },
  {
   "cell_type": "markdown",
   "metadata": {},
   "source": [
    "### Import `pyfftlog` as well as `numpy` and `matplotlib`; some plot settings"
   ]
  },
  {
   "cell_type": "code",
   "execution_count": 1,
   "metadata": {
    "collapsed": false,
    "nbpresent": {
     "id": "4cf9c8a2-cf5f-45cd-b5da-0b1c7fe23108"
    }
   },
   "outputs": [],
   "source": [
    "import pyfftlog\n",
    "import numpy as np\n",
    "import matplotlib as mpl\n",
    "import matplotlib.pyplot as plt\n",
    "\n",
    "%matplotlib inline\n",
    "plt.style.use('ggplot')\n",
    "mpl.rcParams.update({'font.size': 16})"
   ]
  },
  {
   "cell_type": "markdown",
   "metadata": {},
   "source": [
    "### Define the parameters you wish to use\n",
    "\n",
    "The presets are the *Reasonable choices of parameters* from `fftlogtest.f`."
   ]
  },
  {
   "cell_type": "code",
   "execution_count": 2,
   "metadata": {
    "collapsed": false
   },
   "outputs": [],
   "source": [
    "# Range of periodic interval\n",
    "logrmin = -4\n",
    "logrmax = 4\n",
    "\n",
    "# Number of points (Max 4096)\n",
    "n = 64\n",
    "\n",
    "# Order mu of Bessel function\n",
    "mu = 0\n",
    "\n",
    "# Bias exponent: q = 0 is unbiased\n",
    "q = 0\n",
    "\n",
    "# Sensible approximate choice of k_c r_c\n",
    "kr = 1\n",
    "\n",
    "# Tell fhti to change kr to low-ringing value\n",
    "# WARNING: kropt = 3 will fail, as interaction is not supported\n",
    "kropt = 1\n",
    "\n",
    "# Forward transform (changed from dir to tdir, as dir is a python fct)\n",
    "tdir = 1"
   ]
  },
  {
   "cell_type": "markdown",
   "metadata": {},
   "source": [
    "### Calculation related to the logarithmic spacing"
   ]
  },
  {
   "cell_type": "code",
   "execution_count": 3,
   "metadata": {
    "collapsed": false
   },
   "outputs": [
    {
     "name": "stdout",
     "output_type": "stream",
     "text": [
      "Central point of periodic interval at log10(r_c) =  0.0\n"
     ]
    }
   ],
   "source": [
    "# Central point log10(r_c) of periodic interval\n",
    "logrc = (logrmin + logrmax)/2\n",
    "\n",
    "print('Central point of periodic interval at log10(r_c) = ', logrc)\n",
    "\n",
    "# Central index (1/2 integral if n is even)\n",
    "nc = (n + 1)/2.0\n",
    "\n",
    "# Log-spacing of points\n",
    "dlogr = (logrmax - logrmin)/n\n",
    "dlnr = dlogr*np.log(10.0)"
   ]
  },
  {
   "cell_type": "markdown",
   "metadata": {},
   "source": [
    "### Calculate input function: $r^{\\mu+1}\\exp\\left(-\\frac{r^2}{2}\\right)$"
   ]
  },
  {
   "cell_type": "code",
   "execution_count": 4,
   "metadata": {
    "collapsed": false
   },
   "outputs": [],
   "source": [
    "r = 10**(logrc + (np.arange(1, n+1) - nc)*dlogr)\n",
    "ar = r**(mu + 1)*np.exp(-r**2/2.0)"
   ]
  },
  {
   "cell_type": "markdown",
   "metadata": {},
   "source": [
    "### Initialize FFTLog transform - note fhti resets `kr`"
   ]
  },
  {
   "cell_type": "code",
   "execution_count": 5,
   "metadata": {
    "collapsed": false
   },
   "outputs": [
    {
     "name": "stdout",
     "output_type": "stream",
     "text": [
      "pyfftlog.fhti: new kr =  0.953538967579\n"
     ]
    }
   ],
   "source": [
    "kr, xsave = pyfftlog.fhti(n, mu, dlnr, q, kr, kropt)\n",
    "print('pyfftlog.fhti: new kr = ', kr)"
   ]
  },
  {
   "cell_type": "markdown",
   "metadata": {},
   "source": [
    "### Call `pyfftlog.fht` (or `pyfftlog.fhtl`)"
   ]
  },
  {
   "cell_type": "code",
   "execution_count": 6,
   "metadata": {
    "collapsed": false
   },
   "outputs": [
    {
     "name": "stdout",
     "output_type": "stream",
     "text": [
      "Central point in k-space at log10(k_c) =  -0.0206615542605\n"
     ]
    }
   ],
   "source": [
    "logkc = np.log10(kr) - logrc\n",
    "print('Central point in k-space at log10(k_c) = ', logkc)\n",
    "\n",
    "# rk = r_c/k_c\n",
    "rk = 10**(logrc - logkc)\n",
    "\n",
    "# Transform\n",
    "#ak = pyfftlog.fftl(ar.copy(), xsave, rk, tdir)\n",
    "ak = pyfftlog.fht(ar.copy(), xsave, tdir)"
   ]
  },
  {
   "cell_type": "markdown",
   "metadata": {},
   "source": [
    "### Calculate Output function: $k^{\\mu+1}\\exp\\left(-\\frac{k^2}{2}\\right)$"
   ]
  },
  {
   "cell_type": "code",
   "execution_count": 7,
   "metadata": {
    "collapsed": false
   },
   "outputs": [],
   "source": [
    "k = 10**(logkc + (np.arange(1, n+1) - nc)*dlogr)\n",
    "theo = k**(mu + 1)*np.exp(-k**2/2.0)"
   ]
  },
  {
   "cell_type": "markdown",
   "metadata": {},
   "source": [
    "### Plot result"
   ]
  },
  {
   "cell_type": "code",
   "execution_count": 8,
   "metadata": {
    "collapsed": false
   },
   "outputs": [
    {
     "data": {
      "image/png": "[encoded data removed]",
      "text/plain": [
       "<matplotlib.figure.Figure at 0x7fb83a563d30>"
      ]
     },
     "metadata": {},
     "output_type": "display_data"
    }
   ],
   "source": [
    "plt.figure(figsize=(16,8))\n",
    "\n",
    "# Transformed result\n",
    "ax2 = plt.subplot(1, 2, 2)\n",
    "plt.plot(k, theo, 'k', lw=2, label='Theoretical')\n",
    "plt.plot(k, ak, 'r--', lw=2, label='FFTLog')\n",
    "plt.xlabel('k')\n",
    "plt.title(r'$k^{\\mu+1} \\exp(-k^2/2)$', fontsize=20)\n",
    "plt.legend(loc='best')\n",
    "plt.xscale('log')\n",
    "plt.yscale('symlog', basey=10, linthreshy=1e-5)\n",
    "ax2ylim = plt.ylim()\n",
    "\n",
    "# Input\n",
    "ax1 = plt.subplot(1, 2, 1)\n",
    "plt.plot(r, ar, 'k', lw=2)\n",
    "plt.xlabel('r')\n",
    "plt.title(r'$r^{\\mu+1}\\ \\exp(-r^2/2)$', fontsize=20)\n",
    "plt.xscale('log')\n",
    "plt.yscale('symlog', basey=10, linthreshy=1e-5)\n",
    "plt.ylim(ax2ylim)\n",
    "\n",
    "# Main title\n",
    "plt.suptitle(r'$\\int_0^\\infty r^{\\mu+1}\\ \\exp(-r^2/2)\\ J_\\mu(k,r)\\ k\\ {\\rm d}r = k^{\\mu+1} \\exp(-k^2/2)$',\n",
    "             fontsize=24, y=1.08)\n",
    "plt.show()"
   ]
  },
  {
   "cell_type": "markdown",
   "metadata": {},
   "source": [
    "### Print values"
   ]
  },
  {
   "cell_type": "code",
   "execution_count": 9,
   "metadata": {
    "collapsed": false
   },
   "outputs": [
    {
     "name": "stdout",
     "output_type": "stream",
     "text": [
      "           k                 a(k)       k^(mu+1) exp(-k^2/2)\n",
      "----------------------------------------------------------------\n",
      "      1.101130e-04       6.332603e-05       1.101130e-04\n",
      "      1.468380e-04       9.168618e-05       1.468380e-04\n",
      "      1.958116e-04       1.374282e-04       1.958116e-04\n",
      "      2.611190e-04       2.131954e-04       2.611190e-04\n",
      "      3.482078e-04       3.318802e-04       3.482077e-04\n",
      "      4.643425e-04       4.923984e-04       4.643425e-04\n",
      "      6.192107e-04       6.460278e-04       6.192106e-04\n",
      "      8.257307e-04       7.968931e-04       8.257304e-04\n",
      "      1.101130e-03       1.113736e-03       1.101129e-03\n",
      "      1.468380e-03       1.464233e-03       1.468378e-03\n",
      "      1.958116e-03       1.959475e-03       1.958112e-03\n",
      "      2.611190e-03       2.610678e-03       2.611181e-03\n",
      "      3.482078e-03       3.482260e-03       3.482056e-03\n",
      "      4.643425e-03       4.643299e-03       4.643375e-03\n",
      "      6.192107e-03       6.191999e-03       6.191988e-03\n",
      "      8.257307e-03       8.257056e-03       8.257026e-03\n",
      "      1.101130e-02       1.101057e-02       1.101063e-02\n",
      "      1.468380e-02       1.468230e-02       1.468222e-02\n",
      "      1.958116e-02       1.957729e-02       1.957741e-02\n",
      "      2.611190e-02       2.610314e-02       2.610300e-02\n",
      "      3.482078e-02       3.479950e-02       3.479967e-02\n",
      "      4.643425e-02       4.638444e-02       4.638422e-02\n",
      "      6.192107e-02       6.180220e-02       6.180247e-02\n",
      "      8.257307e-02       8.229239e-02       8.229205e-02\n",
      "      1.101130e-01       1.094470e-01       1.094474e-01\n",
      "      1.468380e-01       1.452640e-01       1.452635e-01\n",
      "      1.958116e-01       1.920928e-01       1.920934e-01\n",
      "      2.611190e-01       2.523680e-01       2.523671e-01\n",
      "      3.482078e-01       3.277241e-01       3.277250e-01\n",
      "      4.643425e-01       4.168889e-01       4.168871e-01\n",
      "      6.192107e-01       5.111853e-01       5.111866e-01\n",
      "      8.257307e-01       5.871956e-01       5.871927e-01\n",
      "      1.101130e+00       6.005500e-01       6.005516e-01\n",
      "      1.468380e+00       4.996049e-01       4.996187e-01\n",
      "      1.958116e+00       2.879340e-01       2.879045e-01\n",
      "      2.611190e+00       8.632888e-02       8.634968e-02\n",
      "      3.482078e+00       8.102022e-03       8.108819e-03\n",
      "      4.643425e+00       1.180344e-04       9.656964e-05\n",
      "      6.192107e+00      -1.553139e-05       2.923736e-08\n",
      "      8.257307e+00       7.225353e-06       1.291402e-14\n",
      "      1.101130e+01      -2.588950e-06       5.164519e-26\n",
      "      1.468380e+01       7.719794e-07       2.222595e-46\n",
      "      1.958116e+01       1.586977e-07       1.078537e-82\n",
      "      2.611190e+01      -1.874092e-07      2.285953e-147\n",
      "      3.482078e+01       5.576689e-07      1.793712e-262\n",
      "      4.643425e+01      -1.317041e-07       0.000000e+00\n",
      "      6.192107e+01       6.415736e-07       0.000000e+00\n",
      "      8.257307e+01       1.351283e-07       0.000000e+00\n",
      "      1.101130e+02       7.997181e-07       0.000000e+00\n",
      "      1.468380e+02       5.394094e-07       0.000000e+00\n",
      "      1.958116e+02       1.165867e-06       0.000000e+00\n",
      "      2.611190e+02       1.176786e-06       0.000000e+00\n",
      "      3.482078e+02       1.889416e-06       0.000000e+00\n",
      "      4.643425e+02       2.248731e-06       0.000000e+00\n",
      "      6.192107e+02       3.228937e-06       0.000000e+00\n",
      "      8.257307e+02       4.113223e-06       0.000000e+00\n",
      "      1.101130e+03       5.651921e-06       0.000000e+00\n",
      "      1.468380e+03       7.408687e-06       0.000000e+00\n",
      "      1.958116e+03       1.001142e-05       0.000000e+00\n",
      "      2.611190e+03       1.330606e-05       0.000000e+00\n",
      "      3.482078e+03       1.792186e-05       0.000000e+00\n",
      "      4.643425e+03       2.410633e-05       0.000000e+00\n",
      "      6.192107e+03       3.277422e-05       0.000000e+00\n",
      "      8.257307e+03       4.510046e-05       0.000000e+00\n"
     ]
    }
   ],
   "source": [
    "print('           k                 a(k)       k^(mu+1) exp(-k^2/2)')\n",
    "print('----------------------------------------------------------------')\n",
    "for i in range(n):\n",
    "    print(\"%18.6e %18.6e %18.6e\"% (k[i], ak[i], theo[i]))"
   ]
  }
 ],
 "metadata": {
  "anaconda-cloud": {},
  "kernelspec": {
   "display_name": "Python [conda root]",
   "language": "python",
   "name": "conda-root-py"
  },
  "language_info": {
   "codemirror_mode": {
    "name": "ipython",
    "version": 3
   },
   "file_extension": ".py",
   "mimetype": "text/x-python",
   "name": "python",
   "nbconvert_exporter": "python",
   "pygments_lexer": "ipython3",
   "version": "3.5.2"
  },
  "nbpresent": {
   "slides": {
    "2a1825bf-35ff-4370-b129-ba51addc5c69": {
     "id": "2a1825bf-35ff-4370-b129-ba51addc5c69",
     "prev": "3d6a47d5-4fff-46fe-b063-1afce739efbb",
     "regions": {
      "c651f707-58e0-4b88-b861-0c6608fca1d5": {
       "attrs": {
        "height": 0.8,
        "width": 0.8,
        "x": 0.1,
        "y": 0.1
       },
       "content": {
        "cell": "6900d774-2898-4efd-9798-78bc8f08d0da",
        "part": "whole"
       },
       "id": "c651f707-58e0-4b88-b861-0c6608fca1d5"
      }
     }
    },
    "3d6a47d5-4fff-46fe-b063-1afce739efbb": {
     "id": "3d6a47d5-4fff-46fe-b063-1afce739efbb",
     "prev": "aa9c2bcf-e54f-4714-946e-18921616a039",
     "regions": {
      "e461f359-4831-4693-84fe-480f6c1db14a": {
       "attrs": {
        "height": 0.8,
        "width": 0.8,
        "x": 0.1,
        "y": 0.1
       },
       "content": {
        "cell": "1a31a0e1-bcf6-452d-aabb-c48c94a9e85d",
        "part": "whole"
       },
       "id": "e461f359-4831-4693-84fe-480f6c1db14a"
      }
     }
    },
    "54253e19-21cb-4738-94f0-109d6bbb2bde": {
     "id": "54253e19-21cb-4738-94f0-109d6bbb2bde",
     "prev": "5f5302d2-4747-4c5a-a6c3-1d0fc8f7fb66",
     "regions": {
      "1735c9df-b5c2-40d7-b562-b869e4b966cd": {
       "attrs": {
        "height": 0.8,
        "width": 0.8,
        "x": 0.1,
        "y": 0.1
       },
       "content": {
        "cell": "f85d2094-6d09-4627-a0ab-7cab37ed3c9f",
        "part": "whole"
       },
       "id": "1735c9df-b5c2-40d7-b562-b869e4b966cd"
      }
     }
    },
    "5f5302d2-4747-4c5a-a6c3-1d0fc8f7fb66": {
     "id": "5f5302d2-4747-4c5a-a6c3-1d0fc8f7fb66",
     "prev": "fc333044-619d-44bd-8c7f-0a53dd4b220a",
     "regions": {
      "41618366-0a77-4f2d-9d9b-77ed062d6959": {
       "attrs": {
        "height": 0.8,
        "width": 0.8,
        "x": 0.1,
        "y": 0.1
       },
       "content": {
        "cell": "83e23522-1665-45d6-8bc0-869b981a0e66",
        "part": "whole"
       },
       "id": "41618366-0a77-4f2d-9d9b-77ed062d6959"
      }
     }
    },
    "aa9c2bcf-e54f-4714-946e-18921616a039": {
     "id": "aa9c2bcf-e54f-4714-946e-18921616a039",
     "prev": "54253e19-21cb-4738-94f0-109d6bbb2bde",
     "regions": {
      "1b48f280-81c6-4746-8fff-091d4b10b448": {
       "attrs": {
        "height": 0.8,
        "width": 0.8,
        "x": 0.1,
        "y": 0.1
       },
       "content": {
        "cell": "0631a68b-7d4d-4326-abff-8628f2004afc",
        "part": "whole"
       },
       "id": "1b48f280-81c6-4746-8fff-091d4b10b448"
      }
     }
    },
    "b5a49768-441a-449c-bbf3-d2a7febf0235": {
     "id": "b5a49768-441a-449c-bbf3-d2a7febf0235",
     "prev": null,
     "regions": {
      "7ae15b0a-8675-4544-8708-f2e95dda286f": {
       "attrs": {
        "height": 0.8,
        "width": 0.8,
        "x": 0.1,
        "y": 0.1
       },
       "content": {
        "cell": "4cf9c8a2-cf5f-45cd-b5da-0b1c7fe23108",
        "part": "whole"
       },
       "id": "7ae15b0a-8675-4544-8708-f2e95dda286f"
      }
     }
    },
    "bc930404-89e7-4fc9-a1f9-e9edc1f4d1d4": {
     "id": "bc930404-89e7-4fc9-a1f9-e9edc1f4d1d4",
     "prev": "2a1825bf-35ff-4370-b129-ba51addc5c69",
     "regions": {
      "76296bab-9070-4528-b79c-558debc8f675": {
       "attrs": {
        "height": 0.8,
        "width": 0.8,
        "x": 0.1,
        "y": 0.1
       },
       "content": {
        "cell": "3ac01b43-1f53-4902-a857-5a0b0a6ef59b",
        "part": "whole"
       },
       "id": "76296bab-9070-4528-b79c-558debc8f675"
      }
     }
    },
    "fc333044-619d-44bd-8c7f-0a53dd4b220a": {
     "id": "fc333044-619d-44bd-8c7f-0a53dd4b220a",
     "prev": "b5a49768-441a-449c-bbf3-d2a7febf0235",
     "regions": {
      "fea6658a-c555-450d-b33b-0e44fe7b1cf8": {
       "attrs": {
        "height": 0.8,
        "width": 0.8,
        "x": 0.1,
        "y": 0.1
       },
       "content": {
        "cell": "d0a7e487-d7b9-418c-810f-f12d33c88c85",
        "part": "whole"
       },
       "id": "fea6658a-c555-450d-b33b-0e44fe7b1cf8"
      }
     }
    }
   },
   "themes": {}
  }
 },
 "nbformat": 4,
 "nbformat_minor": 0
}
